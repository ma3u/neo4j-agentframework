{
 "cells": [
  {
   "cell_type": "markdown",
   "metadata": {},
   "source": [
    "# Neo4j RAG System - Setup & First Steps\n",
    "\n",
    "This notebook will guide you through:\n",
    "1. Setting up your environment\n",
    "2. Connecting to Neo4j\n",
    "3. Loading your first document\n",
    "4. Performing basic searches\n",
    "\n",
    "## Prerequisites\n",
    "- Neo4j running in Docker\n",
    "- Python environment activated\n",
    "- Dependencies installed"
   ]
  },
  {
   "cell_type": "markdown",
   "metadata": {},
   "source": [
    "## 1. Environment Setup & Verification"
   ]
  },
  {
   "cell_type": "code",
   "execution_count": null,
   "metadata": {},
   "outputs": [],
   "source": [
    "# Import required libraries\n",
    "import sys\n",
    "import os\n",
    "sys.path.append('..')  # Add parent directory to path\n",
    "\n",
    "# Verify installations\n",
    "try:\n",
    "    import neo4j\n",
    "    print(\"✅ Neo4j driver:\", neo4j.__version__)\n",
    "except ImportError:\n",
    "    print(\"❌ Neo4j driver not installed\")\n",
    "\n",
    "try:\n",
    "    from sentence_transformers import SentenceTransformer\n",
    "    print(\"✅ Sentence Transformers installed\")\n",
    "except ImportError:\n",
    "    print(\"❌ Sentence Transformers not installed\")\n",
    "\n",
    "try:\n",
    "    from docling.document_converter import DocumentConverter\n",
    "    print(\"✅ Docling installed\")\n",
    "except ImportError:\n",
    "    print(\"❌ Docling not installed\")\n",
    "\n",
    "print(\"\\n📊 Python version:\", sys.version)"
   ]
  },
  {
   "cell_type": "markdown",
   "metadata": {},
   "source": [
    "## 2. Connect to Neo4j Database"
   ]
  },
  {
   "cell_type": "code",
   "execution_count": null,
   "metadata": {},
   "outputs": [],
   "source": [
    "from neo4j_rag import Neo4jRAG\n",
    "\n",
    "# Initialize connection\n",
    "rag = Neo4jRAG(\n",
    "    uri=\"bolt://localhost:7687\",\n",
    "    username=\"neo4j\",\n",
    "    password=\"password\"\n",
    ")\n",
    "\n",
    "# Check connection and get stats\n",
    "stats = rag.get_stats()\n",
    "print(\"✅ Connected to Neo4j!\")\n",
    "print(f\"📊 Current database stats:\")\n",
    "print(f\"   - Documents: {stats['documents']}\")\n",
    "print(f\"   - Chunks: {stats['chunks']}\")"
   ]
  },
  {
   "cell_type": "markdown",
   "metadata": {},
   "source": [
    "## 3. Load Your First Document"
   ]
  },
  {
   "cell_type": "code",
   "execution_count": null,
   "metadata": {},
   "outputs": [],
   "source": [
    "# Create a simple test document\n",
    "test_document = \"\"\"\n",
    "Neo4j is a powerful graph database that excels at managing highly connected data.\n",
    "It uses nodes, relationships, and properties to represent and store data.\n",
    "\n",
    "Key features of Neo4j include:\n",
    "1. ACID compliance for reliable transactions\n",
    "2. Cypher query language for intuitive graph queries\n",
    "3. High performance for connected data operations\n",
    "4. Scalability for large datasets\n",
    "\n",
    "Graph databases are particularly useful for:\n",
    "- Social networks\n",
    "- Recommendation engines\n",
    "- Fraud detection\n",
    "- Knowledge graphs\n",
    "\"\"\"\n",
    "\n",
    "# Add document to Neo4j\n",
    "doc_id = rag.add_document(\n",
    "    content=test_document,\n",
    "    metadata={\n",
    "        \"source\": \"notebook_example\",\n",
    "        \"category\": \"tutorial\",\n",
    "        \"author\": \"Neo4j RAG System\"\n",
    "    }\n",
    ")\n",
    "\n",
    "print(f\"✅ Document added successfully!\")\n",
    "print(f\"📄 Document ID: {doc_id}\")\n",
    "\n",
    "# Check updated stats\n",
    "new_stats = rag.get_stats()\n",
    "print(f\"\\n📊 Updated stats:\")\n",
    "print(f\"   - Documents: {stats['documents']} → {new_stats['documents']}\")\n",
    "print(f\"   - Chunks: {stats['chunks']} → {new_stats['chunks']}\")"
   ]
  },
  {
   "cell_type": "markdown",
   "metadata": {},
   "source": [
    "## 4. Basic Vector Search"
   ]
  },
  {
   "cell_type": "code",
   "execution_count": null,
   "metadata": {},
   "outputs": [],
   "source": [
    "# Perform a vector search\n",
    "query = \"What are graph databases used for?\"\n",
    "print(f\"🔍 Searching for: '{query}'\\n\")\n",
    "\n",
    "results = rag.vector_search(query, k=3)\n",
    "\n",
    "print(f\"Found {len(results)} relevant chunks:\\n\")\n",
    "for i, result in enumerate(results, 1):\n",
    "    print(f\"Result {i}:\")\n",
    "    print(f\"  Score: {result['score']:.3f}\")\n",
    "    print(f\"  Text: {result['text'][:150]}...\")\n",
    "    print(f\"  Source: {result.get('metadata', {}).get('source', 'Unknown')}\")\n",
    "    print()"
   ]
  },
  {
   "cell_type": "markdown",
   "metadata": {},
   "source": [
    "## 5. Hybrid Search (Vector + Keyword)"
   ]
  },
  {
   "cell_type": "code",
   "execution_count": null,
   "metadata": {},
   "outputs": [],
   "source": [
    "# Hybrid search combines semantic and keyword matching\n",
    "query = \"ACID transactions Neo4j\"\n",
    "print(f\"🔍 Hybrid search for: '{query}'\\n\")\n",
    "\n",
    "results = rag.hybrid_search(query, k=3)\n",
    "\n",
    "print(f\"Found {len(results)} relevant chunks:\\n\")\n",
    "for i, result in enumerate(results, 1):\n",
    "    print(f\"Result {i}:\")\n",
    "    print(f\"  Combined Score: {result['score']:.3f}\")\n",
    "    print(f\"  Text: {result['text'][:150]}...\")\n",
    "    print()"
   ]
  },
  {
   "cell_type": "markdown",
   "metadata": {},
   "source": [
    "## 6. Load a PDF Document (Advanced)"
   ]
  },
  {
   "cell_type": "code",
   "execution_count": null,
   "metadata": {},
   "outputs": [],
   "source": [
    "from docling_loader import DoclingDocumentLoader\n",
    "from pathlib import Path\n",
    "\n",
    "# Initialize Docling loader\n",
    "loader = DoclingDocumentLoader(neo4j_rag=rag)\n",
    "\n",
    "# Check if we have a sample PDF\n",
    "sample_pdf = Path(\"../samples/arxiv_rag_paper.pdf\")\n",
    "\n",
    "if sample_pdf.exists():\n",
    "    print(f\"📄 Loading PDF: {sample_pdf.name}\\n\")\n",
    "    \n",
    "    # Load PDF with advanced extraction\n",
    "    doc_info = loader.load_document(\n",
    "        str(sample_pdf),\n",
    "        metadata={\"category\": \"research\", \"source\": \"arxiv\"}\n",
    "    )\n",
    "    \n",
    "    print(\"✅ PDF loaded successfully!\")\n",
    "    print(f\"\\n📊 Extraction statistics:\")\n",
    "    print(f\"   - Characters: {doc_info['statistics']['character_count']:,}\")\n",
    "    print(f\"   - Tables: {doc_info['statistics']['table_count']}\")\n",
    "    print(f\"   - Images: {doc_info['statistics']['image_count']}\")\n",
    "    print(f\"   - Sections: {doc_info['statistics']['section_count']}\")\n",
    "else:\n",
    "    print(\"ℹ️ No sample PDF found. Run test_docling_pdf.py to download samples.\")"
   ]
  },
  {
   "cell_type": "markdown",
   "metadata": {},
   "source": [
    "## 7. Visualize Search Results"
   ]
  },
  {
   "cell_type": "code",
   "execution_count": null,
   "metadata": {},
   "outputs": [],
   "source": [
    "import matplotlib.pyplot as plt\n",
    "\n",
    "# Search and visualize scores\n",
    "query = \"graph database\"\n",
    "results = rag.vector_search(query, k=10)\n",
    "\n",
    "if results:\n",
    "    scores = [r['score'] for r in results]\n",
    "    indices = list(range(1, len(scores) + 1))\n",
    "    \n",
    "    plt.figure(figsize=(10, 6))\n",
    "    plt.bar(indices, scores, color='steelblue')\n",
    "    plt.xlabel('Result Rank')\n",
    "    plt.ylabel('Similarity Score')\n",
    "    plt.title(f'Search Results for: \"{query}\"')\n",
    "    plt.grid(axis='y', alpha=0.3)\n",
    "    \n",
    "    # Add score values on bars\n",
    "    for i, score in enumerate(scores):\n",
    "        plt.text(i+1, score + 0.01, f'{score:.3f}', ha='center')\n",
    "    \n",
    "    plt.show()\n",
    "else:\n",
    "    print(\"No results found for visualization\")"
   ]
  },
  {
   "cell_type": "markdown",
   "metadata": {},
   "source": [
    "## 8. Clean Up"
   ]
  },
  {
   "cell_type": "code",
   "execution_count": null,
   "metadata": {},
   "outputs": [],
   "source": [
    "# Close the connection\n",
    "rag.close()\n",
    "print(\"✅ Connection closed\")\n",
    "\n",
    "# Optional: Clear database (uncomment if needed)\n",
    "# rag = Neo4jRAG()\n",
    "# rag.clear_database()\n",
    "# print(\"🗑️ Database cleared\")\n",
    "# rag.close()"
   ]
  },
  {
   "cell_type": "markdown",
   "metadata": {},
   "source": [
    "## Summary & Next Steps\n",
    "\n",
    "You've successfully:\n",
    "- ✅ Connected to Neo4j\n",
    "- ✅ Loaded documents\n",
    "- ✅ Performed vector and hybrid searches\n",
    "- ✅ Visualized search results\n",
    "\n",
    "### Next notebooks to explore:\n",
    "1. **02_embeddings.ipynb** - Understanding embeddings and similarity\n",
    "2. **03_document_processing.ipynb** - Advanced document extraction\n",
    "3. **04_rag_pipeline.ipynb** - Building complete RAG systems\n",
    "4. **05_optimization.ipynb** - Performance tuning\n",
    "\n",
    "### Resources:\n",
    "- [Neo4j Documentation](https://neo4j.com/docs/)\n",
    "- [Project GitHub](https://github.com/yourusername/neo4j-rag-system)\n",
    "- [RAG Tutorial](https://neo4j.com/blog/developer/rag-tutorial/)"
   ]
  }
 ],
 "metadata": {
  "kernelspec": {
   "display_name": "Python 3",
   "language": "python",
   "name": "python3"
  },
  "language_info": {
   "codemirror_mode": {
    "name": "ipython",
    "version": 3
   },
   "file_extension": ".py",
   "mimetype": "text/x-python",
   "name": "python",
   "nbconvert_exporter": "python",
   "pygments_lexer": "ipython3",
   "version": "3.12.0"
  }
 },
 "nbformat": 4,
 "nbformat_minor": 4
}